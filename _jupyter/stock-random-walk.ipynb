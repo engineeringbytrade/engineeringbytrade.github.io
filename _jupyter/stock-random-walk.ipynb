{
 "cells": [
  {
   "cell_type": "markdown",
   "metadata": {},
   "source": [
    "# Stock as a Random Walk"
   ]
  },
  {
   "cell_type": "markdown",
   "metadata": {},
   "source": [
    "### What is a random walk?\n",
    "A time series in which the period-to-period changes are a random sample. In other words, you can't predict anything about the changes. It may trend to a direction, but at any given time you are blind to what the next time period will show.\n",
    "\n",
    "It's like a drunk guy trying to stumble home from the bar. He's eventually going to get home, but at any given point, we have no idea whether he's going to stumble left, stumble right, and how far that side step will be "
   ]
  },
  {
   "cell_type": "markdown",
   "metadata": {},
   "source": [
    "### Relating this to the financial market\n",
    "A stock can be thought of like the drunk guy. It has a long term rate of growth, but the value at time t1 is unpredictable when you're at time t0. This is why day-trading is hard to predict. The **change** in stock price is a random sample.\n",
    "\n",
    "That's the theory at least, so below we can try to prove it"
   ]
  },
  {
   "cell_type": "code",
   "execution_count": 2,
   "metadata": {
    "collapsed": true
   },
   "outputs": [],
   "source": [
    "#imports \n",
    "%matplotlib inline\n",
    "\n",
    "import matplotlib\n",
    "import numpy as np\n",
    "import pandas as pd\n"
   ]
  },
  {
   "cell_type": "markdown",
   "metadata": {},
   "source": [
    "### Collecting three months of FB stock data"
   ]
  },
  {
   "cell_type": "code",
   "execution_count": 3,
   "metadata": {
    "collapsed": true
   },
   "outputs": [],
   "source": [
    "dates = [\n",
    "    '11/7/17',\n",
    "    '11/6/17',\n",
    "    '11/3/17',\n",
    "    '11/2/17',\n",
    "    '11/1/17',\n",
    "    '10/31/17',\n",
    "    '10/30/17',\n",
    "    '10/27/17',\n",
    "    '10/26/17',\n",
    "    '10/25/17',\n",
    "    '10/24/17',\n",
    "    '10/23/17',\n",
    "    '10/20/17',\n",
    "    '10/19/17',\n",
    "    '10/18/17',\n",
    "    '10/17/17',\n",
    "    '10/16/17',\n",
    "    '10/13/17',\n",
    "    '10/12/17',\n",
    "    '10/11/17',\n",
    "    '10/10/17',\n",
    "    '10/9/17',\n",
    "    '10/6/17',\n",
    "    '10/5/17',\n",
    "    '10/4/17',\n",
    "    '10/3/17',\n",
    "    '10/2/17',\n",
    "    '9/29/17',\n",
    "    '9/28/17',\n",
    "    '9/27/17',\n",
    "    '9/26/17',\n",
    "    '9/25/17',\n",
    "    '9/22/17',\n",
    "    '9/21/17',\n",
    "    '9/20/17',\n",
    "    '9/19/17',\n",
    "    '9/18/17',\n",
    "    '9/15/17',\n",
    "    '9/14/17',\n",
    "    '9/13/17',\n",
    "    '9/12/17',\n",
    "    '9/11/17',\n",
    "    '9/8/17',\n",
    "    '9/7/17',\n",
    "    '9/6/17',\n",
    "    '9/5/17',\n",
    "    '9/1/17',\n",
    "    '8/31/17',\n",
    "    '8/30/17',\n",
    "    '8/29/17',\n",
    "    '8/28/17',\n",
    "    '8/25/17',\n",
    "    '8/24/17',\n",
    "    '8/23/17',\n",
    "    '8/22/17',\n",
    "    '8/21/17',\n",
    "    '8/18/17',\n",
    "    '8/17/17',\n",
    "    '8/16/17',\n",
    "    '8/15/17',\n",
    "    '8/14/17',\n",
    "    '8/11/17',\n",
    "    '8/10/17',\n",
    "    '8/9/17',\n",
    "    '8/8/17',\n",
    "    '8/7/17',\n",
    "]"
   ]
  },
  {
   "cell_type": "code",
   "execution_count": 4,
   "metadata": {
    "collapsed": true
   },
   "outputs": [],
   "source": [
    "prices = [\n",
    "    180.25,\n",
    "    180.17,\n",
    "    178.92,\n",
    "    178.92,\n",
    "    182.66,\n",
    "    180.06,\n",
    "    179.87,\n",
    "    177.88,\n",
    "    170.63,\n",
    "    170.6,\n",
    "    171.8,\n",
    "    171.27,\n",
    "    174.98,\n",
    "    174.56,\n",
    "    176.03,\n",
    "    176.11,\n",
    "    174.52,\n",
    "    173.74,\n",
    "    172.55,\n",
    "    172.74,\n",
    "    171.59,\n",
    "    172.5,\n",
    "    172.23,\n",
    "    171.24,\n",
    "    168.42,\n",
    "    169.96,\n",
    "    169.47,\n",
    "    170.87,\n",
    "    168.73,\n",
    "    167.68,\n",
    "    164.21,\n",
    "    162.87,\n",
    "    170.54,\n",
    "    171.11,\n",
    "    172.17,\n",
    "    172.52,\n",
    "    170.01,\n",
    "    171.64,\n",
    "    170.96,\n",
    "    173.05,\n",
    "    172.96,\n",
    "    173.51,\n",
    "    170.95,\n",
    "    173.21,\n",
    "    172.09,\n",
    "    170.72,\n",
    "    172.02,\n",
    "    171.97,\n",
    "    169.92,\n",
    "    168.05,\n",
    "    167.24,\n",
    "    166.32,\n",
    "    167.74,\n",
    "    168.71,\n",
    "    169.64,\n",
    "    167.78,\n",
    "    167.41,\n",
    "    166.91,\n",
    "    170,\n",
    "    171,\n",
    "    170.75,\n",
    "    168.08,\n",
    "    167.4,\n",
    "    171.18,\n",
    "    171.23,\n",
    "    171.98,\n",
    "]"
   ]
  },
  {
   "cell_type": "code",
   "execution_count": 5,
   "metadata": {
    "collapsed": true
   },
   "outputs": [],
   "source": [
    "stockDF = pd.DataFrame(\n",
    "    {'date': dates,\n",
    "     'price': prices,\n",
    "    })"
   ]
  },
  {
   "cell_type": "code",
   "execution_count": 6,
   "metadata": {
    "collapsed": true
   },
   "outputs": [],
   "source": [
    "stockDF['date'] = pd.to_datetime(stockDF['date'])"
   ]
  },
  {
   "cell_type": "code",
   "execution_count": 7,
   "metadata": {},
   "outputs": [
    {
     "data": {
      "text/html": [
       "<div>\n",
       "<style>\n",
       "    .dataframe thead tr:only-child th {\n",
       "        text-align: right;\n",
       "    }\n",
       "\n",
       "    .dataframe thead th {\n",
       "        text-align: left;\n",
       "    }\n",
       "\n",
       "    .dataframe tbody tr th {\n",
       "        vertical-align: top;\n",
       "    }\n",
       "</style>\n",
       "<table border=\"1\" class=\"dataframe\">\n",
       "  <thead>\n",
       "    <tr style=\"text-align: right;\">\n",
       "      <th></th>\n",
       "      <th>date</th>\n",
       "      <th>price</th>\n",
       "    </tr>\n",
       "  </thead>\n",
       "  <tbody>\n",
       "    <tr>\n",
       "      <th>0</th>\n",
       "      <td>2017-11-07</td>\n",
       "      <td>180.25</td>\n",
       "    </tr>\n",
       "    <tr>\n",
       "      <th>1</th>\n",
       "      <td>2017-11-06</td>\n",
       "      <td>180.17</td>\n",
       "    </tr>\n",
       "    <tr>\n",
       "      <th>2</th>\n",
       "      <td>2017-11-03</td>\n",
       "      <td>178.92</td>\n",
       "    </tr>\n",
       "    <tr>\n",
       "      <th>3</th>\n",
       "      <td>2017-11-02</td>\n",
       "      <td>178.92</td>\n",
       "    </tr>\n",
       "    <tr>\n",
       "      <th>4</th>\n",
       "      <td>2017-11-01</td>\n",
       "      <td>182.66</td>\n",
       "    </tr>\n",
       "  </tbody>\n",
       "</table>\n",
       "</div>"
      ],
      "text/plain": [
       "        date   price\n",
       "0 2017-11-07  180.25\n",
       "1 2017-11-06  180.17\n",
       "2 2017-11-03  178.92\n",
       "3 2017-11-02  178.92\n",
       "4 2017-11-01  182.66"
      ]
     },
     "execution_count": 7,
     "metadata": {},
     "output_type": "execute_result"
    }
   ],
   "source": [
    "stockDF.head()"
   ]
  },
  {
   "cell_type": "markdown",
   "metadata": {},
   "source": [
    "### Creating a lag variable, calculating price change"
   ]
  },
  {
   "cell_type": "code",
   "execution_count": 8,
   "metadata": {
    "collapsed": true
   },
   "outputs": [],
   "source": [
    "stockDF = pd.concat([stockDF, stockDF['price'].shift()], axis=1)\n",
    "stockDF.columns = ['date', 'price','priceLag1']"
   ]
  },
  {
   "cell_type": "code",
   "execution_count": 9,
   "metadata": {},
   "outputs": [
    {
     "data": {
      "text/html": [
       "<div>\n",
       "<style>\n",
       "    .dataframe thead tr:only-child th {\n",
       "        text-align: right;\n",
       "    }\n",
       "\n",
       "    .dataframe thead th {\n",
       "        text-align: left;\n",
       "    }\n",
       "\n",
       "    .dataframe tbody tr th {\n",
       "        vertical-align: top;\n",
       "    }\n",
       "</style>\n",
       "<table border=\"1\" class=\"dataframe\">\n",
       "  <thead>\n",
       "    <tr style=\"text-align: right;\">\n",
       "      <th></th>\n",
       "      <th>date</th>\n",
       "      <th>price</th>\n",
       "      <th>priceLag1</th>\n",
       "    </tr>\n",
       "  </thead>\n",
       "  <tbody>\n",
       "    <tr>\n",
       "      <th>0</th>\n",
       "      <td>2017-11-07</td>\n",
       "      <td>180.25</td>\n",
       "      <td>NaN</td>\n",
       "    </tr>\n",
       "    <tr>\n",
       "      <th>1</th>\n",
       "      <td>2017-11-06</td>\n",
       "      <td>180.17</td>\n",
       "      <td>180.25</td>\n",
       "    </tr>\n",
       "    <tr>\n",
       "      <th>2</th>\n",
       "      <td>2017-11-03</td>\n",
       "      <td>178.92</td>\n",
       "      <td>180.17</td>\n",
       "    </tr>\n",
       "    <tr>\n",
       "      <th>3</th>\n",
       "      <td>2017-11-02</td>\n",
       "      <td>178.92</td>\n",
       "      <td>178.92</td>\n",
       "    </tr>\n",
       "    <tr>\n",
       "      <th>4</th>\n",
       "      <td>2017-11-01</td>\n",
       "      <td>182.66</td>\n",
       "      <td>178.92</td>\n",
       "    </tr>\n",
       "  </tbody>\n",
       "</table>\n",
       "</div>"
      ],
      "text/plain": [
       "        date   price  priceLag1\n",
       "0 2017-11-07  180.25        NaN\n",
       "1 2017-11-06  180.17     180.25\n",
       "2 2017-11-03  178.92     180.17\n",
       "3 2017-11-02  178.92     178.92\n",
       "4 2017-11-01  182.66     178.92"
      ]
     },
     "execution_count": 9,
     "metadata": {},
     "output_type": "execute_result"
    }
   ],
   "source": [
    "stockDF.head()"
   ]
  },
  {
   "cell_type": "code",
   "execution_count": 10,
   "metadata": {
    "collapsed": true
   },
   "outputs": [],
   "source": [
    "stockDF['change'] = stockDF['price'] - stockDF['priceLag1']"
   ]
  },
  {
   "cell_type": "code",
   "execution_count": 11,
   "metadata": {},
   "outputs": [
    {
     "data": {
      "text/html": [
       "<div>\n",
       "<style>\n",
       "    .dataframe thead tr:only-child th {\n",
       "        text-align: right;\n",
       "    }\n",
       "\n",
       "    .dataframe thead th {\n",
       "        text-align: left;\n",
       "    }\n",
       "\n",
       "    .dataframe tbody tr th {\n",
       "        vertical-align: top;\n",
       "    }\n",
       "</style>\n",
       "<table border=\"1\" class=\"dataframe\">\n",
       "  <thead>\n",
       "    <tr style=\"text-align: right;\">\n",
       "      <th></th>\n",
       "      <th>date</th>\n",
       "      <th>price</th>\n",
       "      <th>priceLag1</th>\n",
       "      <th>change</th>\n",
       "    </tr>\n",
       "  </thead>\n",
       "  <tbody>\n",
       "    <tr>\n",
       "      <th>0</th>\n",
       "      <td>2017-11-07</td>\n",
       "      <td>180.25</td>\n",
       "      <td>NaN</td>\n",
       "      <td>NaN</td>\n",
       "    </tr>\n",
       "    <tr>\n",
       "      <th>1</th>\n",
       "      <td>2017-11-06</td>\n",
       "      <td>180.17</td>\n",
       "      <td>180.25</td>\n",
       "      <td>-0.08</td>\n",
       "    </tr>\n",
       "    <tr>\n",
       "      <th>2</th>\n",
       "      <td>2017-11-03</td>\n",
       "      <td>178.92</td>\n",
       "      <td>180.17</td>\n",
       "      <td>-1.25</td>\n",
       "    </tr>\n",
       "    <tr>\n",
       "      <th>3</th>\n",
       "      <td>2017-11-02</td>\n",
       "      <td>178.92</td>\n",
       "      <td>178.92</td>\n",
       "      <td>0.00</td>\n",
       "    </tr>\n",
       "    <tr>\n",
       "      <th>4</th>\n",
       "      <td>2017-11-01</td>\n",
       "      <td>182.66</td>\n",
       "      <td>178.92</td>\n",
       "      <td>3.74</td>\n",
       "    </tr>\n",
       "  </tbody>\n",
       "</table>\n",
       "</div>"
      ],
      "text/plain": [
       "        date   price  priceLag1  change\n",
       "0 2017-11-07  180.25        NaN     NaN\n",
       "1 2017-11-06  180.17     180.25   -0.08\n",
       "2 2017-11-03  178.92     180.17   -1.25\n",
       "3 2017-11-02  178.92     178.92    0.00\n",
       "4 2017-11-01  182.66     178.92    3.74"
      ]
     },
     "execution_count": 11,
     "metadata": {},
     "output_type": "execute_result"
    }
   ],
   "source": [
    "stockDF.head()"
   ]
  },
  {
   "cell_type": "markdown",
   "metadata": {},
   "source": [
    "### Ploting price by date"
   ]
  },
  {
   "cell_type": "code",
   "execution_count": 12,
   "metadata": {},
   "outputs": [
    {
     "data": {
      "text/plain": [
       "<matplotlib.axes._subplots.AxesSubplot at 0x114eeda90>"
      ]
     },
     "execution_count": 12,
     "metadata": {},
     "output_type": "execute_result"
    },
    {
     "data": {
      "image/png": "[encoded data removed]",
      "text/plain": [
       "<matplotlib.figure.Figure at 0x114eed4a8>"
      ]
     },
     "metadata": {},
     "output_type": "display_data"
    }
   ],
   "source": [
    "stockDF.plot(x='date', y='price')"
   ]
  },
  {
   "cell_type": "markdown",
   "metadata": {},
   "source": [
    "### Plotting lagged price by price"
   ]
  },
  {
   "cell_type": "code",
   "execution_count": 13,
   "metadata": {},
   "outputs": [
    {
     "data": {
      "text/plain": [
       "<matplotlib.axes._subplots.AxesSubplot at 0x114eed198>"
      ]
     },
     "execution_count": 13,
     "metadata": {},
     "output_type": "execute_result"
    },
    {
     "data": {
      "image/png": "[encoded data removed]",
      "text/plain": [
       "<matplotlib.figure.Figure at 0x1107eaf28>"
      ]
     },
     "metadata": {},
     "output_type": "display_data"
    }
   ],
   "source": [
    "stockDF.plot.scatter(x='price', y='priceLag1')"
   ]
  },
  {
   "cell_type": "markdown",
   "metadata": {},
   "source": [
    "### Plotting Change\n",
    "Notice it at least visually appears to be randomly scattered around 0"
   ]
  },
  {
   "cell_type": "code",
   "execution_count": 14,
   "metadata": {},
   "outputs": [
    {
     "data": {
      "text/plain": [
       "<matplotlib.axes._subplots.AxesSubplot at 0x119208cf8>"
      ]
     },
     "execution_count": 14,
     "metadata": {},
     "output_type": "execute_result"
    },
    {
     "data": {
      "image/png": "[encoded data removed]",
      "text/plain": [
       "<matplotlib.figure.Figure at 0x119150080>"
      ]
     },
     "metadata": {},
     "output_type": "display_data"
    }
   ],
   "source": [
    "stockDF.plot(x='date', y='change')"
   ]
  },
  {
   "cell_type": "markdown",
   "metadata": {},
   "source": [
    "### Mean, standard deviation, autocorrelation of change in prices\n",
    "We have a mean close to zero, and a fairly wide standard deviation."
   ]
  },
  {
   "cell_type": "code",
   "execution_count": 15,
   "metadata": {},
   "outputs": [
    {
     "data": {
      "text/plain": [
       "-0.1272307692307694"
      ]
     },
     "execution_count": 15,
     "metadata": {},
     "output_type": "execute_result"
    }
   ],
   "source": [
    "stockDF['change'].mean()"
   ]
  },
  {
   "cell_type": "code",
   "execution_count": 16,
   "metadata": {},
   "outputs": [
    {
     "data": {
      "text/plain": [
       "2.078147092132427"
      ]
     },
     "execution_count": 16,
     "metadata": {},
     "output_type": "execute_result"
    }
   ],
   "source": [
    "stockDF['change'].std()"
   ]
  },
  {
   "cell_type": "code",
   "execution_count": 17,
   "metadata": {},
   "outputs": [
    {
     "data": {
      "text/plain": [
       "-0.035472554593694069"
      ]
     },
     "execution_count": 17,
     "metadata": {},
     "output_type": "execute_result"
    }
   ],
   "source": [
    "stockDF['change'].autocorr(lag=1)"
   ]
  },
  {
   "cell_type": "markdown",
   "metadata": {},
   "source": [
    "Note above that autocorrelation is close to zero. This is what tells us that past changes do not affect current changes"
   ]
  },
  {
   "cell_type": "markdown",
   "metadata": {},
   "source": [
    "# Why does this matter?"
   ]
  },
  {
   "cell_type": "markdown",
   "metadata": {},
   "source": [
    "To forecast the price of stock the next day, **your best statistical guess is the price of that same stock today, plus the mean change in past prices.** This means that it's easy to predict the price of a stock, but hard to predict their change. Using data on past stock prices does not lend hints as to future price changes that may bring profits to investors"
   ]
  }
 ],
 "metadata": {
  "kernelspec": {
   "display_name": "Python 3",
   "language": "python",
   "name": "python3"
  },
  "language_info": {
   "codemirror_mode": {
    "name": "ipython",
    "version": 3
   },
   "file_extension": ".py",
   "mimetype": "text/x-python",
   "name": "python",
   "nbconvert_exporter": "python",
   "pygments_lexer": "ipython3",
   "version": "3.6.3"
  }
 },
 "nbformat": 4,
 "nbformat_minor": 2
}